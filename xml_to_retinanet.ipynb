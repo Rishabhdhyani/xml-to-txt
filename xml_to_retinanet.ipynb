{
 "cells": [
  {
   "cell_type": "code",
   "execution_count": null,
   "metadata": {
    "collapsed": true
   },
   "outputs": [],
   "source": [
    "import xml.etree.ElementTree as ET\n",
    "import os"
   ]
  },
  {
   "cell_type": "code",
   "execution_count": null,
   "metadata": {
    "collapsed": true
   },
   "outputs": [],
   "source": [
    "#See sample xml file for reference\n",
    "def parse_annotation(ann_dir, img_dir, labels=[], x_ratio =1, y_ratio = 1):\n",
    "    all_imgs = []\n",
    "    seen_labels = {}\n",
    "    \n",
    "    for ann in sorted(os.listdir(ann_dir)):\n",
    "        img = {'object':[]}\n",
    "\n",
    "        tree = ET.parse(ann_dir + ann)\n",
    "        \n",
    "        for elem in tree.iter():\n",
    "            if 'filename' in elem.tag:\n",
    "                img['filename'] = img_dir + elem.text\n",
    "            if 'width' in elem.tag:\n",
    "                img['width'] = int(elem.text)\n",
    "            if 'height' in elem.tag:\n",
    "                img['height'] = int(elem.text)\n",
    "            if 'object' in elem.tag or 'part' in elem.tag:\n",
    "                obj = {}\n",
    "                \n",
    "                for attr in list(elem):\n",
    "                    if 'name' in attr.tag:\n",
    "                        obj['name'] = attr.text\n",
    "\n",
    "                        if obj['name'] in seen_labels:\n",
    "                            seen_labels[obj['name']] += 1\n",
    "                        else:\n",
    "                            seen_labels[obj['name']] = 1\n",
    "                        \n",
    "                        if len(labels) > 0 and obj['name'] not in labels:\n",
    "                            break\n",
    "                        else:\n",
    "                            img['object'] += [obj]\n",
    "                            \n",
    "                    if 'bndbox' in attr.tag:\n",
    "                        for dim in list(attr):\n",
    "                            if 'xmin' in dim.tag:\n",
    "                                obj['xmin'] = int(round(float(dim.text))*x_ratio)\n",
    "                            if 'ymin'  in dim.tag:\n",
    "                                obj['ymin'] = int(round(float(dim.text))*y_ratio)\n",
    "                            if 'xmax' in dim.tag:\n",
    "                                obj['xmax'] = int(round(float(dim.text))*x_ratio)\n",
    "                            if 'ymax' in dim.tag:\n",
    "                                obj['ymax'] = int(round(float(dim.text))*y_ratio)\n",
    "\n",
    "        if len(img['object']) > 0:\n",
    "            all_imgs += [img]\n",
    "                        \n",
    "    return all_imgs, seen_labels"
   ]
  },
  {
   "cell_type": "code",
   "execution_count": null,
   "metadata": {
    "collapsed": true
   },
   "outputs": [],
   "source": [
    "LABELS = ['garbage'] # array containing labels. Can be more than one.\n",
    "train_image_folder = '/home/Ted/git/xml-to-txt/data/person_xml/'\n",
    "train_annot_folder = '/home/Ted/git/xml-to-txt/data/xml_data/'\n",
    "\n",
    "train_imgs, seen_train_labels = parse_annotation(train_annot_folder, train_image_folder, labels=LABELS,)\n",
    "\n",
    "#label_ids = seen_train_labels.copy()\n",
    "labels_ids = {'person': 'person'}"
   ]
  },
  {
   "cell_type": "code",
   "execution_count": null,
   "metadata": {
    "scrolled": true
   },
   "outputs": [],
   "source": [
    "train_imgs #Checking data format"
   ]
  },
  {
   "cell_type": "code",
   "execution_count": null,
   "metadata": {},
   "outputs": [],
   "source": [
    "f = open ('labels.txt', 'w+')\n",
    "for img_number in range(0,len(train_imgs)):\n",
    "    image = train_imgs[img_number]\n",
    "    im_name = image['filename'].split('/')[-1]\n",
    "    objects = image['object']\n",
    "    # print (im_name)\n",
    "#     line = im_name\n",
    "    for objs in objects:\n",
    "        xmin = objs['xmin']\n",
    "        ymin = objs['ymin']\n",
    "        xmax = objs['xmax']\n",
    "        ymax = objs['ymax']\n",
    "        c_id = labels_ids[objs['name']]\n",
    "#         print (xmin, ymin, xmax, ymax, c_id)\n",
    "        line = im_name+','+str(xmin)+',' +str(ymin)+',' +str(xmax)+','+str(ymax)+','+ str(c_id) +'\\n'\n",
    "        f.write (line)\n",
    "\n",
    "  #  print (line)\n",
    "    \n",
    "f.close()"
   ]
  },
  {
   "cell_type": "code",
   "execution_count": null,
   "metadata": {
    "collapsed": true
   },
   "outputs": [],
   "source": []
  }
 ],
 "metadata": {
  "kernelspec": {
   "display_name": "Python 3",
   "language": "python",
   "name": "python3"
  },
  "language_info": {
   "codemirror_mode": {
    "name": "ipython",
    "version": 3
   },
   "file_extension": ".py",
   "mimetype": "text/x-python",
   "name": "python",
   "nbconvert_exporter": "python",
   "pygments_lexer": "ipython3",
   "version": "3.6.3"
  }
 },
 "nbformat": 4,
 "nbformat_minor": 2
}
